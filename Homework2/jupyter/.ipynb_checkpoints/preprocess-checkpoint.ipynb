{
 "cells": [
  {
   "cell_type": "code",
   "execution_count": 5,
   "metadata": {},
   "outputs": [],
   "source": [
    "import numpy as np\n",
    "import csv\n",
    "import json\n",
    "\n",
    "import os\n",
    "os.chdir('..')"
   ]
  },
  {
   "cell_type": "code",
   "execution_count": 17,
   "metadata": {},
   "outputs": [],
   "source": [
    "def make_json(csvFilePath, jsonFilePath, key_str):\n",
    "     \n",
    "    # create a dictionary\n",
    "    data = {}\n",
    "     \n",
    "    # Open a csv reader called DictReader\n",
    "    with open(csvFilePath, encoding='utf-8') as csvf:\n",
    "        csvReader = csv.DictReader(csvf)\n",
    "         \n",
    "        # Convert each row into a dictionary \n",
    "        # and add it to data\n",
    "        for rows in csvReader:\n",
    "             \n",
    "            # Assuming a column named 'No' to\n",
    "            # be the primary key\n",
    "            key = rows[key_str]\n",
    "            data[key] = rows\n",
    " \n",
    "    # Open a json writer, and use the json.dumps() \n",
    "    # function to dump data\n",
    "    with open(jsonFilePath, 'w', encoding='utf-8') as jsonf:\n",
    "        jsonf.write(json.dumps(data, indent=4))\n",
    "         \n"
   ]
  },
  {
   "cell_type": "code",
   "execution_count": 25,
   "metadata": {},
   "outputs": [
    {
     "ename": "KeyError",
     "evalue": "''",
     "output_type": "error",
     "traceback": [
      "\u001b[0;31m---------------------------------------------------------------------------\u001b[0m",
      "\u001b[0;31mKeyError\u001b[0m                                  Traceback (most recent call last)",
      "\u001b[0;32m<ipython-input-25-7b38b03d998e>\u001b[0m in \u001b[0;36m<module>\u001b[0;34m\u001b[0m\n\u001b[1;32m     14\u001b[0m \u001b[0;34m\u001b[0m\u001b[0m\n\u001b[1;32m     15\u001b[0m \u001b[0;31m# Call the make_json function\u001b[0m\u001b[0;34m\u001b[0m\u001b[0;34m\u001b[0m\u001b[0;34m\u001b[0m\u001b[0m\n\u001b[0;32m---> 16\u001b[0;31m \u001b[0mmake_json\u001b[0m\u001b[0;34m(\u001b[0m\u001b[0mcsvFilePath\u001b[0m\u001b[0;34m,\u001b[0m \u001b[0mjsonFilePath\u001b[0m\u001b[0;34m,\u001b[0m \u001b[0mkey_str\u001b[0m\u001b[0;34m)\u001b[0m\u001b[0;34m\u001b[0m\u001b[0;34m\u001b[0m\u001b[0m\n\u001b[0m",
      "\u001b[0;32m<ipython-input-17-79b48eefdcc7>\u001b[0m in \u001b[0;36mmake_json\u001b[0;34m(csvFilePath, jsonFilePath, key_str)\u001b[0m\n\u001b[1;32m     14\u001b[0m             \u001b[0;31m# Assuming a column named 'No' to\u001b[0m\u001b[0;34m\u001b[0m\u001b[0;34m\u001b[0m\u001b[0;34m\u001b[0m\u001b[0m\n\u001b[1;32m     15\u001b[0m             \u001b[0;31m# be the primary key\u001b[0m\u001b[0;34m\u001b[0m\u001b[0;34m\u001b[0m\u001b[0;34m\u001b[0m\u001b[0m\n\u001b[0;32m---> 16\u001b[0;31m             \u001b[0mkey\u001b[0m \u001b[0;34m=\u001b[0m \u001b[0mrows\u001b[0m\u001b[0;34m[\u001b[0m\u001b[0mkey_str\u001b[0m\u001b[0;34m]\u001b[0m\u001b[0;34m\u001b[0m\u001b[0;34m\u001b[0m\u001b[0m\n\u001b[0m\u001b[1;32m     17\u001b[0m             \u001b[0mdata\u001b[0m\u001b[0;34m[\u001b[0m\u001b[0mkey\u001b[0m\u001b[0;34m]\u001b[0m \u001b[0;34m=\u001b[0m \u001b[0mrows\u001b[0m\u001b[0;34m\u001b[0m\u001b[0;34m\u001b[0m\u001b[0m\n\u001b[1;32m     18\u001b[0m \u001b[0;34m\u001b[0m\u001b[0m\n",
      "\u001b[0;31mKeyError\u001b[0m: ''"
     ]
    }
   ],
   "source": [
    "# Driver Code\n",
    " \n",
    "# Decide the two file paths according to your \n",
    "# computer system\n",
    "# csvFilePath = r'Names.csv'\n",
    "# jsonFilePath = r'Names.json'\n",
    "# path_root = '/Users/maryam/Documents/Courses/Courses_UCDavis/Winter2021/InfoViz_ECS272_WQ2021/Homeworks/GithubRepo/ECS272-Winter2021/Homework2/datasets/'\n",
    "path_root = '/Users/maryam/Documents/Courses/Courses_UCDavis/Winter2021/InfoViz_ECS272_WQ2021/Homeworks/GithubRepo/ECS272-Winter2021/Homework2/Templates/es6-webpack-template/node/src/assets/data'\n",
    "path_datasets = path_root + '/spotify_data/'\n",
    "csvFilePath = path_datasets + r'data_by_year.csv'\n",
    "jsonFilePath = path_datasets + r'data_by_year.json'\n",
    "\n",
    "key_str = 'year'\n",
    "\n",
    "# Call the make_json function\n",
    "make_json(csvFilePath, jsonFilePath, key_str)"
   ]
  },
  {
   "cell_type": "code",
   "execution_count": 20,
   "metadata": {},
   "outputs": [],
   "source": [
    "csvFilePath = path_datasets + r'data.csv'\n",
    "jsonFilePath = path_datasets + r'data.json'\n",
    "\n",
    " \n",
    "# Call the make_json function\n",
    "make_json(csvFilePath, jsonFilePath, key_str)"
   ]
  },
  {
   "cell_type": "code",
   "execution_count": 21,
   "metadata": {},
   "outputs": [],
   "source": [
    "csvFilePath = path_datasets + r'data_by_genres.csv'\n",
    "jsonFilePath = path_datasets + r'data_by_genres.json'\n",
    "\n",
    "key_str = 'genres'\n",
    "# Call the make_json function\n",
    "make_json(csvFilePath, jsonFilePath, key_str)"
   ]
  },
  {
   "cell_type": "code",
   "execution_count": 22,
   "metadata": {},
   "outputs": [],
   "source": [
    "csvFilePath = path_datasets + r'data_w_genres.csv'\n",
    "jsonFilePath = path_datasets + r'data_w_genres.json'\n",
    "\n",
    " \n",
    "# Call the make_json function\n",
    "make_json(csvFilePath, jsonFilePath, key_str)"
   ]
  },
  {
   "cell_type": "code",
   "execution_count": 24,
   "metadata": {},
   "outputs": [],
   "source": [
    "csvFilePath = path_datasets + r'data_by_artist.csv'\n",
    "jsonFilePath = path_datasets + r'data_by_artist.json'\n",
    "\n",
    "key_str = 'artists'\n",
    "# Call the make_json function\n",
    "make_json(csvFilePath, jsonFilePath, key_str)"
   ]
  },
  {
   "cell_type": "code",
   "execution_count": null,
   "metadata": {},
   "outputs": [],
   "source": []
  },
  {
   "cell_type": "code",
   "execution_count": null,
   "metadata": {},
   "outputs": [],
   "source": []
  }
 ],
 "metadata": {
  "kernelspec": {
   "display_name": "infoviz",
   "language": "python",
   "name": "infoviz"
  },
  "language_info": {
   "codemirror_mode": {
    "name": "ipython",
    "version": 3
   },
   "file_extension": ".py",
   "mimetype": "text/x-python",
   "name": "python",
   "nbconvert_exporter": "python",
   "pygments_lexer": "ipython3",
   "version": "3.8.5"
  }
 },
 "nbformat": 4,
 "nbformat_minor": 4
}
